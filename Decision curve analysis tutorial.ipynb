{
 "cells": [
  {
   "cell_type": "code",
   "execution_count": 1,
   "metadata": {},
   "outputs": [],
   "source": [
    "# Import modules\n",
    "import pandas as pd\n",
    "import numpy as np\n",
    "import matplotlib.pyplot as plt"
   ]
  },
  {
   "cell_type": "code",
   "execution_count": 2,
   "metadata": {},
   "outputs": [],
   "source": [
    "def calc_true_false_positives(prob, y, threshold):\n",
    "    \"\"\"\n",
    "    prob: predicted probilities of outcome of interest by your model\n",
    "    y: outcome of interest. Yes is coded as 1, No is coded as 0\n",
    "    threshold: ignore, will be used later in decision curve analysis function\n",
    "    \n",
    "    Returns: net benefit of \"treat based on model predictions\" strategy for the specified threshold\n",
    "    \"\"\"\n",
    "    \n",
    "    TP = FP = 0\n",
    "    for j, i in zip(prob, y):\n",
    "        if j>=(threshold/100) and i==1:\n",
    "            TP += 1\n",
    "        if j>=(threshold/100) and i==0:\n",
    "            FP += 1\n",
    "    \n",
    "    NB = (TP/len(y)) - (FP/len(y))*((threshold/100)/(1-(threshold/100)))\n",
    "    return NB"
   ]
  },
  {
   "cell_type": "code",
   "execution_count": 3,
   "metadata": {},
   "outputs": [],
   "source": [
    "def calc_treatall_true_false_positives(y, threshold):\n",
    "    \"\"\"\n",
    "    y: outcome of interest. Yes is coded as 1, No is coded as 0\n",
    "    threshold: ignore, will be used later in decision curve analysis function\n",
    "    \n",
    "    Returns: net benefit of \"treat-all\" strategy for the specified threshold\n",
    "    \"\"\"\n",
    "    \n",
    "    TP = FP = 0\n",
    "    for i in y:\n",
    "        if i==1:\n",
    "            TP += 1\n",
    "        else:\n",
    "            FP += 1\n",
    "    \n",
    "    NB = (TP/len(y)) - (FP/len(y))*((threshold/100)/(1-(threshold/100)))\n",
    "    return NB"
   ]
  },
  {
   "cell_type": "code",
   "execution_count": 4,
   "metadata": {},
   "outputs": [],
   "source": [
    "def draw_decision_curve(prob, y, title='Decision Curve Analysis'):\n",
    "    \"\"\"\n",
    "    prob: predicted probabilities of outcome of interest by your model\n",
    "    y: outcome of interest. Yes is coded as 1, No is coded as 0\n",
    "    \n",
    "    Returns: plot of net benefit for \"treat-none\", \"treat-all\", and \"treat based on model predictions\"\n",
    "             strategies across thresholds 0-100.\n",
    "    \"\"\"\n",
    "    \n",
    "    NB = []\n",
    "    NB_treatall = []\n",
    "    \n",
    "    for k in np.linspace(0,99.5,200):\n",
    "        # Calculate and save net benefit for \"treat based on model predictions\" strategy\n",
    "        NB_thresh = calc_true_false_positives(prob, y, k)\n",
    "        NB.append(NB_thresh)\n",
    "        \n",
    "        # Calculate and save net benefit for \"treat-all\" strategy\n",
    "        NB_all = calc_treatall_true_false_positives(y, k)\n",
    "        NB_treatall.append(NB_all)\n",
    "    \n",
    "    threshold = np.linspace(0,99.5,200)\n",
    "    \n",
    "    # Plot net benefit of \"treat based on model predictions\" strategy\n",
    "    plt.plot(threshold, NB, color='b',\n",
    "             label=r'Model',\n",
    "             lw=1, alpha=.8)\n",
    "    \n",
    "    # Plot net benefit of \"treat-all\" strategy\n",
    "    plt.plot(threshold, NB_treatall, color='k', linestyle='--',\n",
    "             label=r'Treat all',\n",
    "             lw=1, alpha=.5)\n",
    "    \n",
    "    #Plot net benefit of \"treat-none\" strategy\n",
    "    plt.plot([0, 100], [0, 0], linestyle='-', lw=1, color='k',\n",
    "             label='Treat none', alpha=.5)\n",
    "    \n",
    "    plt.xticks(np.arange(0, 100, step=10))\n",
    "    plt.yticks(np.arange(0, 1, step=0.1))\n",
    "    plt.xlim([0, 100]) # Adjust scale as necessary\n",
    "    plt.ylim([-0.02, 0.3]) # Adjust scale as necessary\n",
    "    plt.grid(b=True, which='major', axis='both', alpha=.5)\n",
    "    plt.xlabel('Threshold probability (%)')\n",
    "    plt.ylabel('Net benefit')\n",
    "    plt.title(title)\n",
    "    plt.legend(loc='upper center', bbox_to_anchor=(0.5, -0.18), fancybox=True, shadow=False, ncol=2)\n",
    "    plt.figure(figsize=[15,10], dpi=600)\n",
    "    plt.show()"
   ]
  },
  {
   "cell_type": "code",
   "execution_count": 5,
   "metadata": {},
   "outputs": [],
   "source": [
    "# Demonstration of draw_decision_cruve\n",
    "# Import predicted probabilities for all models\n",
    "data = pd.read_csv(r'...validation probabilities.csv')"
   ]
  },
  {
   "cell_type": "code",
   "execution_count": 6,
   "metadata": {
    "scrolled": false
   },
   "outputs": [
    {
     "data": {
      "image/png": "[encoded data removed]",
      "text/plain": [
       "<Figure size 432x288 with 1 Axes>"
      ]
     },
     "metadata": {
      "needs_background": "light"
     },
     "output_type": "display_data"
    },
    {
     "data": {
      "text/plain": [
       "<Figure size 9000x6000 with 0 Axes>"
      ]
     },
     "metadata": {},
     "output_type": "display_data"
    }
   ],
   "source": [
    "# Run decision curve function\n",
    "draw_decision_curve(data['Probabilities'],                  \n",
    "                    data['Outcome'],\n",
    "                    title = 'Decision curve for model')"
   ]
  },
  {
   "cell_type": "code",
   "execution_count": null,
   "metadata": {},
   "outputs": [],
   "source": []
  }
 ],
 "metadata": {
  "kernelspec": {
   "display_name": "Python 3",
   "language": "python",
   "name": "python3"
  },
  "language_info": {
   "codemirror_mode": {
    "name": "ipython",
    "version": 3
   },
   "file_extension": ".py",
   "mimetype": "text/x-python",
   "name": "python",
   "nbconvert_exporter": "python",
   "pygments_lexer": "ipython3",
   "version": "3.8.3"
  }
 },
 "nbformat": 4,
 "nbformat_minor": 2
}
